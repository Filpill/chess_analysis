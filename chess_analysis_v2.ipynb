{
 "cells": [
  {
   "cell_type": "markdown",
   "metadata": {},
   "source": [
    "# Importing Modules and Defining Functions"
   ]
  },
  {
   "cell_type": "code",
   "execution_count": 63,
   "metadata": {},
   "outputs": [],
   "source": [
    "import sys\n",
    "import requests\n",
    "import numpy as np\n",
    "import pandas as pd\n",
    "from json import loads\n",
    "from textwrap import wrap\n",
    "import matplotlib.pyplot as plt"
   ]
  },
  {
   "cell_type": "code",
   "execution_count": 64,
   "metadata": {},
   "outputs": [],
   "source": [
    "def httpsReq(requestAddr):\n",
    "\n",
    "    #Making the API Request\n",
    "    # print(f'Making API Call to: {requestAddr}')\n",
    "    response = requests.get(requestAddr)\n",
    "    if response.status_code == 200:\n",
    "        pass\n",
    "    elif response.status_code != 200:\n",
    "        print(f'{response.status_code} - API Request {requestAddr} Failed')\n",
    "        KeyboardInterrupt\n",
    "\n",
    "    #Converting JSON to Dict and Parsing API Data into a Dataframe\n",
    "    api_dict = loads(response.text)\n",
    "\n",
    "    return api_dict"
   ]
  },
  {
   "cell_type": "code",
   "execution_count": 65,
   "metadata": {},
   "outputs": [],
   "source": [
    "#Function for Writing .xlsx Data Tables which will provide a standard output for table formatting \n",
    "def xlsx_table_writer(data_table,sheet_name,col_width_list,title_str,startrow,startcol,worksheet,workbook,writer):\n",
    "\n",
    "    #Layout/Formatting\n",
    "    t_vert_spacing = 5 #Vertical Spacing between tables\n",
    "    t_horz_spacing = 1 #Horizontal Spacing between tables\n",
    "    title_format = workbook.add_format({'bold': True, 'font_size' : 20, 'fg_color' : '#76933C', 'font_color' : 'white' }) #Standardised Title Format for all tables\n",
    "    header_format = workbook.add_format({'bold' : True, 'font_size' : 12, 'text_wrap' : True}) #text-wrapping for table headers\n",
    "    \n",
    "    # Adding and changing active sheet\n",
    "    try:\n",
    "        worksheet=workbook.add_worksheet(sheet_name)\n",
    "        writer.sheets[sheet_name] = worksheet \n",
    "        worksheet.set_zoom(70)\n",
    "        startrow = 3\n",
    "        startcol = 1\n",
    "    except:\n",
    "        pass\n",
    "\n",
    "    for i in range(len(col_width_list)):\n",
    "        worksheet.set_column(i+startcol, i+startcol, col_width_list[i])\n",
    "\n",
    "    #Writing in Cell Data and Merging Cells for Table Titles\n",
    "    data_table.to_excel(writer,sheet_name=sheet_name,startrow=startrow , startcol=startcol, index=False, header=False)\n",
    "    worksheet.merge_range(startrow-2, startcol,startrow-2,data_table.shape[1] + startcol -1, title_str,title_format) #writing in title formatting above table\n",
    "\n",
    "    #Column settings to use in add table function\n",
    "    column_settings = [{'header' : column} for column in data_table.columns]\n",
    "\n",
    "    #Populating Excel with Table Format - Adding table to xls for each df\n",
    "    worksheet.add_table(startrow-1, startcol, startrow + data_table.shape[0], data_table.shape[1] + startcol - 1, {'columns' : column_settings, 'style': 'Table Style Medium 4', 'autofilter' : False})   \n",
    "\n",
    "    #Applying a text wrap to the Column Header\n",
    "    for col_num, value in enumerate(data_table.columns.values):\n",
    "        worksheet.write(startrow-1, col_num + startcol, value, header_format)\n",
    "    \n",
    "    #Setting Positions of Following Tables Insertions\n",
    "    startrow = startrow + data_table.shape[0] + t_vert_spacing #Setting to start row for next table\n",
    "    # startrow = 3  \n",
    "    # startcol = startcol + data_table.shape[1] + t_horz_spacing  #Disabling horizontally displaced tables in favour of vertically displacements\n",
    "    startcol = 1\n",
    "\n",
    "    #Setting the column width at the end of the table to keep to spacing minimal between tables\n",
    "    worksheet.set_column(startcol-1,startcol-1,1)\n",
    "    \n",
    "    #Return the start row in order to index for future function calls\n",
    "    return [startrow,startcol,worksheet,workbook,writer]"
   ]
  },
  {
   "cell_type": "code",
   "execution_count": 66,
   "metadata": {},
   "outputs": [],
   "source": [
    "#Function to Detect Operating System and Adjust Pathing to Respective Filesystem\n",
    "def pathing(folder_path,filename):\n",
    "\n",
    "    #Windows Operating System\n",
    "    if 'win' in sys.platform:\n",
    "        if folder_path == 'root':\n",
    "            filepath = f'{sys.path[0]}\\\\{filename}'\n",
    "        else:\n",
    "            filepath = f'{sys.path[0]}\\\\{folder_path}\\\\{filename}'\n",
    "    #Linux/Mac Operating Sytem\n",
    "    else:\n",
    "        if folder_path == 'root':\n",
    "            filepath = f'{sys.path[0]}/{filename}'\n",
    "        else:\n",
    "            filepath = f'{sys.path[0]}/{folder_path}/{filename}'\n",
    "\n",
    "    return filepath"
   ]
  },
  {
   "cell_type": "markdown",
   "metadata": {},
   "source": [
    "# Requesting Game History via Chess.com API\n",
    "### We need to stage our api request to transform into a dataframe:\n",
    "- The api request address only returns the games for the selected month and year\n",
    "- There we must pull down our archive histotry and loop through the api requests to return data for each month"
   ]
  },
  {
   "cell_type": "code",
   "execution_count": 216,
   "metadata": {},
   "outputs": [
    {
     "name": "stdout",
     "output_type": "stream",
     "text": [
      "API Request for Monthly API Endpoints Successful\n"
     ]
    },
    {
     "data": {
      "text/plain": [
       "['https://api.chess.com/pub/player/filiplivancic/games/2019/05',\n",
       " 'https://api.chess.com/pub/player/filiplivancic/games/2019/07',\n",
       " 'https://api.chess.com/pub/player/filiplivancic/games/2019/08',\n",
       " 'https://api.chess.com/pub/player/filiplivancic/games/2019/09',\n",
       " 'https://api.chess.com/pub/player/filiplivancic/games/2019/10']"
      ]
     },
     "execution_count": 216,
     "metadata": {},
     "output_type": "execute_result"
    }
   ],
   "source": [
    "#Retrieveing Archive of My Entire Chess.com History\n",
    "player = 'filiplivancic'\n",
    "archive_dict = httpsReq(f'https://api.chess.com/pub/player/{player}/games/archives')\n",
    "print(f'API Request for Monthly API Endpoints Successful')\n",
    "archive = (archive_dict['archives'])\n",
    "archive[:5]"
   ]
  },
  {
   "cell_type": "code",
   "execution_count": 217,
   "metadata": {},
   "outputs": [
    {
     "name": "stdout",
     "output_type": "stream",
     "text": [
      "API Request Successful and Appended all request links together\n"
     ]
    }
   ],
   "source": [
    "api_list = [httpsReq(request) for request in archive]\n",
    "print(f'API Request Successful and Appended all request links together')"
   ]
  },
  {
   "cell_type": "markdown",
   "metadata": {},
   "source": [
    "## Unpacking List of Games"
   ]
  },
  {
   "cell_type": "code",
   "execution_count": 218,
   "metadata": {},
   "outputs": [
    {
     "name": "stdout",
     "output_type": "stream",
     "text": [
      "Transforming JSON data into a dataframe\n"
     ]
    }
   ],
   "source": [
    "game_list = []\n",
    "print('Transforming JSON data into a dataframe')\n",
    "for month in api_list: \n",
    "    month_of_games = month['games']\n",
    "    for game in month_of_games: \n",
    "        game_list.append(game)\n",
    "df = pd.DataFrame(game_list)"
   ]
  },
  {
   "attachments": {},
   "cell_type": "markdown",
   "metadata": {},
   "source": [
    "### Filtering the rule set strictly to 'chess'\n",
    "- There are other subsets of rules such as **'crazyhouse'** which add columns to the pgn and alter the shape of the table - *we just want the defualt chess pgn's*\n",
    "- Crazyhouse rules add cols 23,24,25 which relate to the \"Varient URL\", \"unknown blank col\", \"varient chess moves\"\n",
    "- df.loc[df['rules']=='crazyhouse']"
   ]
  },
  {
   "cell_type": "code",
   "execution_count": 219,
   "metadata": {},
   "outputs": [
    {
     "data": {
      "text/html": [
       "<div>\n",
       "<style scoped>\n",
       "    .dataframe tbody tr th:only-of-type {\n",
       "        vertical-align: middle;\n",
       "    }\n",
       "\n",
       "    .dataframe tbody tr th {\n",
       "        vertical-align: top;\n",
       "    }\n",
       "\n",
       "    .dataframe thead th {\n",
       "        text-align: right;\n",
       "    }\n",
       "</style>\n",
       "<table border=\"1\" class=\"dataframe\">\n",
       "  <thead>\n",
       "    <tr style=\"text-align: right;\">\n",
       "      <th></th>\n",
       "      <th>url</th>\n",
       "      <th>pgn</th>\n",
       "      <th>time_control</th>\n",
       "      <th>end_time</th>\n",
       "      <th>rated</th>\n",
       "      <th>accuracies</th>\n",
       "      <th>tcn</th>\n",
       "      <th>uuid</th>\n",
       "      <th>initial_setup</th>\n",
       "      <th>fen</th>\n",
       "      <th>time_class</th>\n",
       "      <th>rules</th>\n",
       "      <th>white</th>\n",
       "      <th>black</th>\n",
       "    </tr>\n",
       "  </thead>\n",
       "  <tbody>\n",
       "    <tr>\n",
       "      <th>0</th>\n",
       "      <td>https://www.chess.com/game/live/3668045802</td>\n",
       "      <td>[Event \"Live Chess\"]\\n[Site \"Chess.com\"]\\n[Dat...</td>\n",
       "      <td>600</td>\n",
       "      <td>1556902183</td>\n",
       "      <td>True</td>\n",
       "      <td>{'white': 37.99, 'black': 50.96}</td>\n",
       "      <td>mC3Nbs5Qlt!TcMZJCKQKtB7RfH6Zdm86BKRzKT0THOzjOX...</td>\n",
       "      <td>fd899364-2d30-11e5-8000-000000010001</td>\n",
       "      <td>rnbqkbnr/pppppppp/8/8/8/8/PPPPPPPP/RNBQKBNR w ...</td>\n",
       "      <td>7r/pkp2pp1/8/3p3p/4r3/8/P1P1KPPP/q3b3 w - -</td>\n",
       "      <td>blitz</td>\n",
       "      <td>chess</td>\n",
       "      <td>{'rating': 804, 'result': 'timeout', '@id': 'h...</td>\n",
       "      <td>{'rating': 973, 'result': 'win', '@id': 'https...</td>\n",
       "    </tr>\n",
       "    <tr>\n",
       "      <th>1</th>\n",
       "      <td>https://www.chess.com/game/live/3668084540</td>\n",
       "      <td>[Event \"Live Chess\"]\\n[Site \"Chess.com\"]\\n[Dat...</td>\n",
       "      <td>600</td>\n",
       "      <td>1556902975</td>\n",
       "      <td>True</td>\n",
       "      <td>{'white': 22.005480522744918, 'black': 56.4909...</td>\n",
       "      <td>lB!Tbs5QBJQKnDKEpxEVmC0SCKT!sC9zclWGkA7FowF0iq...</td>\n",
       "      <td>a090dbf8-2d36-11e5-8000-000000010001</td>\n",
       "      <td>rnbqkbnr/pppppppp/8/8/8/8/PPPPPPPP/RNBQKBNR w ...</td>\n",
       "      <td>2k1r2r/1pp4p/3p1p1n/P2P1n2/4K1B1/6q1/1P1B4/R2Q...</td>\n",
       "      <td>blitz</td>\n",
       "      <td>chess</td>\n",
       "      <td>{'rating': 797, 'result': 'checkmated', '@id':...</td>\n",
       "      <td>{'rating': 925, 'result': 'win', '@id': 'https...</td>\n",
       "    </tr>\n",
       "    <tr>\n",
       "      <th>2</th>\n",
       "      <td>https://www.chess.com/game/live/3668146117</td>\n",
       "      <td>[Event \"Live Chess\"]\\n[Site \"Chess.com\"]\\n[Dat...</td>\n",
       "      <td>600</td>\n",
       "      <td>1556903918</td>\n",
       "      <td>True</td>\n",
       "      <td>{'white': 59.17, 'black': 43.89}</td>\n",
       "      <td>ltWGcM2Ugv4OmCYItBIAfAOPbsPQBJQAvKAYdvZRv1</td>\n",
       "      <td>96bfa632-2d3f-11e5-8000-000000010001</td>\n",
       "      <td>rnbqkbnr/pppppppp/8/8/8/8/PPPPPPPP/RNBQKBNR w ...</td>\n",
       "      <td>1nbqkbnr/1pr1pQ1p/3p2p1/p2PN1B1/4P3/2N5/PPP2PP...</td>\n",
       "      <td>blitz</td>\n",
       "      <td>chess</td>\n",
       "      <td>{'rating': 990, 'result': 'win', '@id': 'https...</td>\n",
       "      <td>{'rating': 775, 'result': 'checkmated', '@id':...</td>\n",
       "    </tr>\n",
       "  </tbody>\n",
       "</table>\n",
       "</div>"
      ],
      "text/plain": [
       "                                          url  \\\n",
       "0  https://www.chess.com/game/live/3668045802   \n",
       "1  https://www.chess.com/game/live/3668084540   \n",
       "2  https://www.chess.com/game/live/3668146117   \n",
       "\n",
       "                                                 pgn time_control    end_time  \\\n",
       "0  [Event \"Live Chess\"]\\n[Site \"Chess.com\"]\\n[Dat...          600  1556902183   \n",
       "1  [Event \"Live Chess\"]\\n[Site \"Chess.com\"]\\n[Dat...          600  1556902975   \n",
       "2  [Event \"Live Chess\"]\\n[Site \"Chess.com\"]\\n[Dat...          600  1556903918   \n",
       "\n",
       "   rated                                         accuracies  \\\n",
       "0   True                   {'white': 37.99, 'black': 50.96}   \n",
       "1   True  {'white': 22.005480522744918, 'black': 56.4909...   \n",
       "2   True                   {'white': 59.17, 'black': 43.89}   \n",
       "\n",
       "                                                 tcn  \\\n",
       "0  mC3Nbs5Qlt!TcMZJCKQKtB7RfH6Zdm86BKRzKT0THOzjOX...   \n",
       "1  lB!Tbs5QBJQKnDKEpxEVmC0SCKT!sC9zclWGkA7FowF0iq...   \n",
       "2         ltWGcM2Ugv4OmCYItBIAfAOPbsPQBJQAvKAYdvZRv1   \n",
       "\n",
       "                                   uuid  \\\n",
       "0  fd899364-2d30-11e5-8000-000000010001   \n",
       "1  a090dbf8-2d36-11e5-8000-000000010001   \n",
       "2  96bfa632-2d3f-11e5-8000-000000010001   \n",
       "\n",
       "                                       initial_setup  \\\n",
       "0  rnbqkbnr/pppppppp/8/8/8/8/PPPPPPPP/RNBQKBNR w ...   \n",
       "1  rnbqkbnr/pppppppp/8/8/8/8/PPPPPPPP/RNBQKBNR w ...   \n",
       "2  rnbqkbnr/pppppppp/8/8/8/8/PPPPPPPP/RNBQKBNR w ...   \n",
       "\n",
       "                                                 fen time_class  rules  \\\n",
       "0        7r/pkp2pp1/8/3p3p/4r3/8/P1P1KPPP/q3b3 w - -      blitz  chess   \n",
       "1  2k1r2r/1pp4p/3p1p1n/P2P1n2/4K1B1/6q1/1P1B4/R2Q...      blitz  chess   \n",
       "2  1nbqkbnr/1pr1pQ1p/3p2p1/p2PN1B1/4P3/2N5/PPP2PP...      blitz  chess   \n",
       "\n",
       "                                               white  \\\n",
       "0  {'rating': 804, 'result': 'timeout', '@id': 'h...   \n",
       "1  {'rating': 797, 'result': 'checkmated', '@id':...   \n",
       "2  {'rating': 990, 'result': 'win', '@id': 'https...   \n",
       "\n",
       "                                               black  \n",
       "0  {'rating': 973, 'result': 'win', '@id': 'https...  \n",
       "1  {'rating': 925, 'result': 'win', '@id': 'https...  \n",
       "2  {'rating': 775, 'result': 'checkmated', '@id':...  "
      ]
     },
     "execution_count": 219,
     "metadata": {},
     "output_type": "execute_result"
    }
   ],
   "source": [
    "df = df.loc[df['rules']=='chess']\n",
    "df.reset_index(drop=True,inplace=True)\n",
    "df.head(3)"
   ]
  },
  {
   "attachments": {},
   "cell_type": "markdown",
   "metadata": {},
   "source": [
    "#### Saving NaN Accurracy URL Links"
   ]
  },
  {
   "cell_type": "code",
   "execution_count": 220,
   "metadata": {},
   "outputs": [
    {
     "data": {
      "text/plain": [
       "1815"
      ]
     },
     "execution_count": 220,
     "metadata": {},
     "output_type": "execute_result"
    }
   ],
   "source": [
    "# You need to analyse the game on chess.com website for the data to appear in the corresponding PGN/game\n",
    "# Need to make some kind of webscraper to page through all the URL's and analyse all the games\n",
    "df_acc = df.loc[df['accuracies'].isna()==True]\n",
    "df_acc['url'].to_csv('data/accuracy_nan_url.csv',index=False)\n",
    "df_acc.shape[0]\n",
    "# df_acc.head(5)"
   ]
  },
  {
   "attachments": {},
   "cell_type": "markdown",
   "metadata": {},
   "source": [
    "#### Creating a subset of data with select headers (Used later to merge in with pgn data)"
   ]
  },
  {
   "cell_type": "code",
   "execution_count": 221,
   "metadata": {},
   "outputs": [
    {
     "data": {
      "text/html": [
       "<div>\n",
       "<style scoped>\n",
       "    .dataframe tbody tr th:only-of-type {\n",
       "        vertical-align: middle;\n",
       "    }\n",
       "\n",
       "    .dataframe tbody tr th {\n",
       "        vertical-align: top;\n",
       "    }\n",
       "\n",
       "    .dataframe thead th {\n",
       "        text-align: right;\n",
       "    }\n",
       "</style>\n",
       "<table border=\"1\" class=\"dataframe\">\n",
       "  <thead>\n",
       "    <tr style=\"text-align: right;\">\n",
       "      <th></th>\n",
       "      <th>Link</th>\n",
       "      <th>rated</th>\n",
       "      <th>rules</th>\n",
       "      <th>time_class</th>\n",
       "    </tr>\n",
       "  </thead>\n",
       "  <tbody>\n",
       "    <tr>\n",
       "      <th>0</th>\n",
       "      <td>https://www.chess.com/game/live/3668045802</td>\n",
       "      <td>True</td>\n",
       "      <td>chess</td>\n",
       "      <td>blitz</td>\n",
       "    </tr>\n",
       "    <tr>\n",
       "      <th>1</th>\n",
       "      <td>https://www.chess.com/game/live/3668084540</td>\n",
       "      <td>True</td>\n",
       "      <td>chess</td>\n",
       "      <td>blitz</td>\n",
       "    </tr>\n",
       "    <tr>\n",
       "      <th>2</th>\n",
       "      <td>https://www.chess.com/game/live/3668146117</td>\n",
       "      <td>True</td>\n",
       "      <td>chess</td>\n",
       "      <td>blitz</td>\n",
       "    </tr>\n",
       "  </tbody>\n",
       "</table>\n",
       "</div>"
      ],
      "text/plain": [
       "                                         Link  rated  rules time_class\n",
       "0  https://www.chess.com/game/live/3668045802   True  chess      blitz\n",
       "1  https://www.chess.com/game/live/3668084540   True  chess      blitz\n",
       "2  https://www.chess.com/game/live/3668146117   True  chess      blitz"
      ]
     },
     "execution_count": 221,
     "metadata": {},
     "output_type": "execute_result"
    }
   ],
   "source": [
    "df_subset_attributes = df.loc[:,['url','rated','rules','time_class']]\n",
    "\n",
    "# Re-naming the url column to enable a merging criterion down the script for the pgn table\n",
    "if 'url' in df_subset_attributes.columns:\n",
    "    df_subset_attributes.rename(columns={'url':'Link'},inplace=True)\n",
    "\n",
    "df_subset_attributes[:3]"
   ]
  },
  {
   "attachments": {},
   "cell_type": "markdown",
   "metadata": {},
   "source": [
    "#### Cleaning pgn data in preparation for putting into dataframe\n",
    "- Splitting new lines into lists\n",
    "- Brackets and slashed removed"
   ]
  },
  {
   "cell_type": "code",
   "execution_count": 222,
   "metadata": {},
   "outputs": [],
   "source": [
    "pgn_list = [df.loc[i,'pgn'].splitlines(False) for i in range(df.shape[0])] #splitting newlines into list structure\n",
    "\n",
    "for i,pgn in enumerate(pgn_list):\n",
    "\n",
    "    for j in range(len(pgn)):\n",
    "        pgn_list[i][j] = pgn_list[i][j].split(' \\\"')\n",
    "\n",
    "        for k in range(len(pgn_list[i][j])):\n",
    "            pgn_list[i][j][k] = pgn_list[i][j][k].replace('\\\"','')\n",
    "            pgn_list[i][j][k] = pgn_list[i][j][k].replace('[','')\n",
    "            pgn_list[i][j][k] = pgn_list[i][j][k].replace(']','')"
   ]
  },
  {
   "attachments": {},
   "cell_type": "markdown",
   "metadata": {},
   "source": [
    "#### Retrieving pgn headers"
   ]
  },
  {
   "cell_type": "code",
   "execution_count": 223,
   "metadata": {},
   "outputs": [
    {
     "name": "stdout",
     "output_type": "stream",
     "text": [
      "23 ['Event', 'Site', 'Date', 'Round', 'White', 'Black', 'Result', 'CurrentPosition', 'Timezone', 'ECO', 'ECOUrl', 'UTCDate', 'UTCTime', 'WhiteElo', 'BlackElo', 'TimeControl', 'Termination', 'StartTime', 'EndDate', 'EndTime', 'Link', '', 'Moves']\n"
     ]
    }
   ],
   "source": [
    "for pgn in pgn_list[0]:\n",
    "    headers = [pgn[0] if len(pgn[0]) < 20 else 'Moves' for pgn in pgn_list[0]]\n",
    "\n",
    "print(len(headers),headers)"
   ]
  },
  {
   "attachments": {},
   "cell_type": "markdown",
   "metadata": {},
   "source": [
    "#### Creating DataFrame and replacing list pairs with just the values"
   ]
  },
  {
   "cell_type": "code",
   "execution_count": 224,
   "metadata": {},
   "outputs": [
    {
     "data": {
      "text/html": [
       "<div>\n",
       "<style scoped>\n",
       "    .dataframe tbody tr th:only-of-type {\n",
       "        vertical-align: middle;\n",
       "    }\n",
       "\n",
       "    .dataframe tbody tr th {\n",
       "        vertical-align: top;\n",
       "    }\n",
       "\n",
       "    .dataframe thead th {\n",
       "        text-align: right;\n",
       "    }\n",
       "</style>\n",
       "<table border=\"1\" class=\"dataframe\">\n",
       "  <thead>\n",
       "    <tr style=\"text-align: right;\">\n",
       "      <th></th>\n",
       "      <th>Event</th>\n",
       "      <th>Site</th>\n",
       "      <th>Date</th>\n",
       "      <th>Round</th>\n",
       "      <th>White</th>\n",
       "      <th>Black</th>\n",
       "      <th>Result</th>\n",
       "      <th>CurrentPosition</th>\n",
       "      <th>Timezone</th>\n",
       "      <th>ECO</th>\n",
       "      <th>...</th>\n",
       "      <th>WhiteElo</th>\n",
       "      <th>BlackElo</th>\n",
       "      <th>TimeControl</th>\n",
       "      <th>Termination</th>\n",
       "      <th>StartTime</th>\n",
       "      <th>EndDate</th>\n",
       "      <th>EndTime</th>\n",
       "      <th>Link</th>\n",
       "      <th></th>\n",
       "      <th>Moves</th>\n",
       "    </tr>\n",
       "  </thead>\n",
       "  <tbody>\n",
       "    <tr>\n",
       "      <th>0</th>\n",
       "      <td>Live Chess</td>\n",
       "      <td>Chess.com</td>\n",
       "      <td>2019.05.03</td>\n",
       "      <td>-</td>\n",
       "      <td>filiplivancic</td>\n",
       "      <td>Jacoblb56</td>\n",
       "      <td>0-1</td>\n",
       "      <td>7r/pkp2pp1/8/3p3p/4r3/8/P1P1KPPP/q3b3 w - -</td>\n",
       "      <td>UTC</td>\n",
       "      <td>B00</td>\n",
       "      <td>...</td>\n",
       "      <td>804</td>\n",
       "      <td>973</td>\n",
       "      <td>600</td>\n",
       "      <td>Jacoblb56 won on time</td>\n",
       "      <td>16:34:35</td>\n",
       "      <td>2019.05.03</td>\n",
       "      <td>16:49:43</td>\n",
       "      <td>https://www.chess.com/game/live/3668045802</td>\n",
       "      <td></td>\n",
       "      <td>1. e4 {%clk 0:09:55.5} 1... h5 {%clk 0:09:57.9...</td>\n",
       "    </tr>\n",
       "    <tr>\n",
       "      <th>1</th>\n",
       "      <td>Live Chess</td>\n",
       "      <td>Chess.com</td>\n",
       "      <td>2019.05.03</td>\n",
       "      <td>-</td>\n",
       "      <td>Mazterja5</td>\n",
       "      <td>filiplivancic</td>\n",
       "      <td>0-1</td>\n",
       "      <td>2k1r2r/1pp4p/3p1p1n/P2P1n2/4K1B1/6q1/1P1B4/R2Q...</td>\n",
       "      <td>UTC</td>\n",
       "      <td>A45</td>\n",
       "      <td>...</td>\n",
       "      <td>797</td>\n",
       "      <td>925</td>\n",
       "      <td>600</td>\n",
       "      <td>filiplivancic won by checkmate</td>\n",
       "      <td>16:49:51</td>\n",
       "      <td>2019.05.03</td>\n",
       "      <td>17:02:55</td>\n",
       "      <td>https://www.chess.com/game/live/3668084540</td>\n",
       "      <td></td>\n",
       "      <td>1. d4 {%clk 0:09:59.7} 1... Nf6 {%clk 0:09:56....</td>\n",
       "    </tr>\n",
       "    <tr>\n",
       "      <th>2</th>\n",
       "      <td>Live Chess</td>\n",
       "      <td>Chess.com</td>\n",
       "      <td>2019.05.03</td>\n",
       "      <td>-</td>\n",
       "      <td>filiplivancic</td>\n",
       "      <td>jakubreid</td>\n",
       "      <td>1-0</td>\n",
       "      <td>1nbqkbnr/1pr1pQ1p/3p2p1/p2PN1B1/4P3/2N5/PPP2PP...</td>\n",
       "      <td>UTC</td>\n",
       "      <td>A00</td>\n",
       "      <td>...</td>\n",
       "      <td>990</td>\n",
       "      <td>775</td>\n",
       "      <td>600</td>\n",
       "      <td>filiplivancic won by checkmate</td>\n",
       "      <td>17:13:56</td>\n",
       "      <td>2019.05.03</td>\n",
       "      <td>17:18:38</td>\n",
       "      <td>https://www.chess.com/game/live/3668146117</td>\n",
       "      <td></td>\n",
       "      <td>1. d3 {%clk 0:09:52.8} 1... a5 {%clk 0:09:57.2...</td>\n",
       "    </tr>\n",
       "  </tbody>\n",
       "</table>\n",
       "<p>3 rows × 23 columns</p>\n",
       "</div>"
      ],
      "text/plain": [
       "        Event       Site        Date Round          White          Black  \\\n",
       "0  Live Chess  Chess.com  2019.05.03     -  filiplivancic      Jacoblb56   \n",
       "1  Live Chess  Chess.com  2019.05.03     -      Mazterja5  filiplivancic   \n",
       "2  Live Chess  Chess.com  2019.05.03     -  filiplivancic      jakubreid   \n",
       "\n",
       "  Result                                    CurrentPosition Timezone  ECO  \\\n",
       "0    0-1        7r/pkp2pp1/8/3p3p/4r3/8/P1P1KPPP/q3b3 w - -      UTC  B00   \n",
       "1    0-1  2k1r2r/1pp4p/3p1p1n/P2P1n2/4K1B1/6q1/1P1B4/R2Q...      UTC  A45   \n",
       "2    1-0  1nbqkbnr/1pr1pQ1p/3p2p1/p2PN1B1/4P3/2N5/PPP2PP...      UTC  A00   \n",
       "\n",
       "   ... WhiteElo BlackElo TimeControl                     Termination  \\\n",
       "0  ...      804      973         600           Jacoblb56 won on time   \n",
       "1  ...      797      925         600  filiplivancic won by checkmate   \n",
       "2  ...      990      775         600  filiplivancic won by checkmate   \n",
       "\n",
       "  StartTime     EndDate   EndTime                                        Link  \\\n",
       "0  16:34:35  2019.05.03  16:49:43  https://www.chess.com/game/live/3668045802   \n",
       "1  16:49:51  2019.05.03  17:02:55  https://www.chess.com/game/live/3668084540   \n",
       "2  17:13:56  2019.05.03  17:18:38  https://www.chess.com/game/live/3668146117   \n",
       "\n",
       "                                                 Moves  \n",
       "0    1. e4 {%clk 0:09:55.5} 1... h5 {%clk 0:09:57.9...  \n",
       "1    1. d4 {%clk 0:09:59.7} 1... Nf6 {%clk 0:09:56....  \n",
       "2    1. d3 {%clk 0:09:52.8} 1... a5 {%clk 0:09:57.2...  \n",
       "\n",
       "[3 rows x 23 columns]"
      ]
     },
     "execution_count": 224,
     "metadata": {},
     "output_type": "execute_result"
    }
   ],
   "source": [
    "df_pgn = pd.DataFrame(pgn_list,columns=headers)\n",
    "for col_head in headers:\n",
    "    # print(f'Replacing List Pairs with Values For Column: {col_head}')\n",
    "    for i,list_pair in enumerate(df_pgn[col_head]):\n",
    "        if len(list_pair) == 2:\n",
    "            df_pgn.at[i,col_head]  = list_pair[1]\n",
    "        elif len(list_pair) == 1:\n",
    "            df_pgn.at[i,col_head]  = list_pair[0]\n",
    "df_pgn.head(3)"
   ]
  },
  {
   "attachments": {},
   "cell_type": "markdown",
   "metadata": {},
   "source": [
    "#### Replace Opening URL's with Chess Opening Names"
   ]
  },
  {
   "cell_type": "code",
   "execution_count": 225,
   "metadata": {},
   "outputs": [],
   "source": [
    "df_pgn['ECOUrl'] = df_pgn['ECOUrl'].str.replace('https://www.chess.com/openings/','',regex=True)\n",
    "df_pgn['ECOUrl'] = df_pgn['ECOUrl'].str.replace('-',' ',regex=True)\n",
    "if 'ECOUrl' in df_pgn.columns:\n",
    "    df_pgn.rename(columns={'ECOUrl':'Opening'},inplace=True)"
   ]
  },
  {
   "attachments": {},
   "cell_type": "markdown",
   "metadata": {},
   "source": [
    "#### Transform Date Columns into Datetime datatype\n",
    "- And also extract hourly/day of week data"
   ]
  },
  {
   "cell_type": "code",
   "execution_count": 226,
   "metadata": {},
   "outputs": [],
   "source": [
    "# # Converting to Datetime Format\n",
    "df_pgn['Date'] = pd.to_datetime(df_pgn['Date'])\n",
    "df_pgn['EndDate'] = pd.to_datetime(df_pgn['EndDate'])\n",
    "df_pgn['Hour'] = df_pgn['EndTime'].str.slice(stop=2).astype(int)\n",
    "df_pgn['Day Name'] = df_pgn['Date'].dt.day_name()"
   ]
  },
  {
   "attachments": {},
   "cell_type": "markdown",
   "metadata": {},
   "source": [
    "#### Merging chess pgn dataframe back into the main dataframe via the game url/link"
   ]
  },
  {
   "cell_type": "code",
   "execution_count": 227,
   "metadata": {},
   "outputs": [],
   "source": [
    "df_original = pd.merge(df_pgn,df_subset_attributes,on='Link',how='inner')"
   ]
  },
  {
   "cell_type": "code",
   "execution_count": 228,
   "metadata": {},
   "outputs": [
    {
     "data": {
      "text/plain": [
       "{'blitz', 'bullet', 'rapid'}"
      ]
     },
     "execution_count": 228,
     "metadata": {},
     "output_type": "execute_result"
    }
   ],
   "source": [
    "set(df_original['TimeControl'])\n",
    "set(df_original['time_class'])"
   ]
  },
  {
   "attachments": {},
   "cell_type": "markdown",
   "metadata": {},
   "source": [
    "#### Determining Game Result And Rating For Selected Player per Game"
   ]
  },
  {
   "cell_type": "code",
   "execution_count": 229,
   "metadata": {},
   "outputs": [
    {
     "data": {
      "text/html": [
       "<div>\n",
       "<style scoped>\n",
       "    .dataframe tbody tr th:only-of-type {\n",
       "        vertical-align: middle;\n",
       "    }\n",
       "\n",
       "    .dataframe tbody tr th {\n",
       "        vertical-align: top;\n",
       "    }\n",
       "\n",
       "    .dataframe thead th {\n",
       "        text-align: right;\n",
       "    }\n",
       "</style>\n",
       "<table border=\"1\" class=\"dataframe\">\n",
       "  <thead>\n",
       "    <tr style=\"text-align: right;\">\n",
       "      <th></th>\n",
       "      <th>Event</th>\n",
       "      <th>Site</th>\n",
       "      <th>Date</th>\n",
       "      <th>Round</th>\n",
       "      <th>White</th>\n",
       "      <th>Black</th>\n",
       "      <th>Result</th>\n",
       "      <th>CurrentPosition</th>\n",
       "      <th>Timezone</th>\n",
       "      <th>ECO</th>\n",
       "      <th>...</th>\n",
       "      <th>Moves</th>\n",
       "      <th>Hour</th>\n",
       "      <th>Day Name</th>\n",
       "      <th>rated</th>\n",
       "      <th>rules</th>\n",
       "      <th>time_class</th>\n",
       "      <th>Game Result</th>\n",
       "      <th>End State</th>\n",
       "      <th>Player Rating</th>\n",
       "      <th>Opponent Rating</th>\n",
       "    </tr>\n",
       "  </thead>\n",
       "  <tbody>\n",
       "    <tr>\n",
       "      <th>0</th>\n",
       "      <td>Live Chess</td>\n",
       "      <td>Chess.com</td>\n",
       "      <td>2019-05-03</td>\n",
       "      <td>-</td>\n",
       "      <td>filiplivancic</td>\n",
       "      <td>Jacoblb56</td>\n",
       "      <td>0-1</td>\n",
       "      <td>7r/pkp2pp1/8/3p3p/4r3/8/P1P1KPPP/q3b3 w - -</td>\n",
       "      <td>UTC</td>\n",
       "      <td>B00</td>\n",
       "      <td>...</td>\n",
       "      <td>1. e4 {%clk 0:09:55.5} 1... h5 {%clk 0:09:57.9...</td>\n",
       "      <td>16</td>\n",
       "      <td>Friday</td>\n",
       "      <td>True</td>\n",
       "      <td>chess</td>\n",
       "      <td>blitz</td>\n",
       "      <td>Loss</td>\n",
       "      <td>time</td>\n",
       "      <td>804</td>\n",
       "      <td>973</td>\n",
       "    </tr>\n",
       "    <tr>\n",
       "      <th>1</th>\n",
       "      <td>Live Chess</td>\n",
       "      <td>Chess.com</td>\n",
       "      <td>2019-05-03</td>\n",
       "      <td>-</td>\n",
       "      <td>Mazterja5</td>\n",
       "      <td>filiplivancic</td>\n",
       "      <td>0-1</td>\n",
       "      <td>2k1r2r/1pp4p/3p1p1n/P2P1n2/4K1B1/6q1/1P1B4/R2Q...</td>\n",
       "      <td>UTC</td>\n",
       "      <td>A45</td>\n",
       "      <td>...</td>\n",
       "      <td>1. d4 {%clk 0:09:59.7} 1... Nf6 {%clk 0:09:56....</td>\n",
       "      <td>17</td>\n",
       "      <td>Friday</td>\n",
       "      <td>True</td>\n",
       "      <td>chess</td>\n",
       "      <td>blitz</td>\n",
       "      <td>Win</td>\n",
       "      <td>checkmate</td>\n",
       "      <td>925</td>\n",
       "      <td>797</td>\n",
       "    </tr>\n",
       "    <tr>\n",
       "      <th>2</th>\n",
       "      <td>Live Chess</td>\n",
       "      <td>Chess.com</td>\n",
       "      <td>2019-05-03</td>\n",
       "      <td>-</td>\n",
       "      <td>filiplivancic</td>\n",
       "      <td>jakubreid</td>\n",
       "      <td>1-0</td>\n",
       "      <td>1nbqkbnr/1pr1pQ1p/3p2p1/p2PN1B1/4P3/2N5/PPP2PP...</td>\n",
       "      <td>UTC</td>\n",
       "      <td>A00</td>\n",
       "      <td>...</td>\n",
       "      <td>1. d3 {%clk 0:09:52.8} 1... a5 {%clk 0:09:57.2...</td>\n",
       "      <td>17</td>\n",
       "      <td>Friday</td>\n",
       "      <td>True</td>\n",
       "      <td>chess</td>\n",
       "      <td>blitz</td>\n",
       "      <td>Win</td>\n",
       "      <td>checkmate</td>\n",
       "      <td>990</td>\n",
       "      <td>775</td>\n",
       "    </tr>\n",
       "  </tbody>\n",
       "</table>\n",
       "<p>3 rows × 32 columns</p>\n",
       "</div>"
      ],
      "text/plain": [
       "        Event       Site       Date Round          White          Black  \\\n",
       "0  Live Chess  Chess.com 2019-05-03     -  filiplivancic      Jacoblb56   \n",
       "1  Live Chess  Chess.com 2019-05-03     -      Mazterja5  filiplivancic   \n",
       "2  Live Chess  Chess.com 2019-05-03     -  filiplivancic      jakubreid   \n",
       "\n",
       "  Result                                    CurrentPosition Timezone  ECO  \\\n",
       "0    0-1        7r/pkp2pp1/8/3p3p/4r3/8/P1P1KPPP/q3b3 w - -      UTC  B00   \n",
       "1    0-1  2k1r2r/1pp4p/3p1p1n/P2P1n2/4K1B1/6q1/1P1B4/R2Q...      UTC  A45   \n",
       "2    1-0  1nbqkbnr/1pr1pQ1p/3p2p1/p2PN1B1/4P3/2N5/PPP2PP...      UTC  A00   \n",
       "\n",
       "   ...                                              Moves Hour Day Name rated  \\\n",
       "0  ...  1. e4 {%clk 0:09:55.5} 1... h5 {%clk 0:09:57.9...   16   Friday  True   \n",
       "1  ...  1. d4 {%clk 0:09:59.7} 1... Nf6 {%clk 0:09:56....   17   Friday  True   \n",
       "2  ...  1. d3 {%clk 0:09:52.8} 1... a5 {%clk 0:09:57.2...   17   Friday  True   \n",
       "\n",
       "   rules time_class Game Result  End State Player Rating Opponent Rating  \n",
       "0  chess      blitz        Loss       time           804             973  \n",
       "1  chess      blitz         Win  checkmate           925             797  \n",
       "2  chess      blitz         Win  checkmate           990             775  \n",
       "\n",
       "[3 rows x 32 columns]"
      ]
     },
     "execution_count": 229,
     "metadata": {},
     "output_type": "execute_result"
    }
   ],
   "source": [
    "result_list = []\n",
    "end_state_list = []\n",
    "player_rating_list = []\n",
    "opponent_rating_list = []\n",
    "state_list = ['50-move rule','agreement','by timeout vs insufficient material','by insufficient material','repetition','stalemate','abandoned','checkmate','resignation','time']\n",
    "\n",
    "for words in df_original['Termination']:\n",
    "\n",
    "    # Win/Loss/Draw\n",
    "    if f'{player} won' in words:\n",
    "        result_list.append('Win')\n",
    "    elif 'drawn' in words:\n",
    "        result_list.append('Draw')\n",
    "    else:\n",
    "        result_list.append('Loss')\n",
    "\n",
    "    # End State\n",
    "    for state in state_list:\n",
    "        if state in words:\n",
    "            end_state_list.append(state)\n",
    "            break\n",
    "\n",
    "# Extracting Player Rating\n",
    "for i in range(df_original.shape[0]):\n",
    "    if df_original.loc[i,'White'] == player:\n",
    "        player_rating_list.append(int(df_original.loc[i,'WhiteElo']))\n",
    "        opponent_rating_list.append(int(df_original.loc[i,'BlackElo']))\n",
    "    elif df_original.loc[i,'Black'] == player:\n",
    "        player_rating_list.append(int(df_original.loc[i,'BlackElo']))\n",
    "        opponent_rating_list.append(int(df_original.loc[i,'WhiteElo']))\n",
    "\n",
    "df_original['Game Result'] = result_list\n",
    "df_original['End State'] = end_state_list\n",
    "df_original['Player Rating'] = player_rating_list\n",
    "df_original['Opponent Rating'] = opponent_rating_list\n",
    "\n",
    "df_original[:3]"
   ]
  },
  {
   "cell_type": "code",
   "execution_count": 230,
   "metadata": {},
   "outputs": [
    {
     "data": {
      "text/plain": [
       "numpy.int64"
      ]
     },
     "execution_count": 230,
     "metadata": {},
     "output_type": "execute_result"
    }
   ],
   "source": [
    "type(df_original.loc[0,'Player Rating'])"
   ]
  },
  {
   "cell_type": "code",
   "execution_count": 231,
   "metadata": {},
   "outputs": [
    {
     "name": "stdout",
     "output_type": "stream",
     "text": [
      "There are 32 cols:\n",
      "['Event', 'Site', 'Date', 'Round', 'White', 'Black', 'Result', 'CurrentPosition', 'Timezone', 'ECO', 'Opening', 'UTCDate', 'UTCTime', 'WhiteElo', 'BlackElo', 'TimeControl', 'Termination', 'StartTime', 'EndDate', 'EndTime', 'Link', '', 'Moves', 'Hour', 'Day Name', 'rated', 'rules', 'time_class', 'Game Result', 'End State', 'Player Rating', 'Opponent Rating']\n"
     ]
    }
   ],
   "source": [
    "print(f'There are {df_original.shape[1]} cols:\\n{list(df_original.columns)}')"
   ]
  },
  {
   "cell_type": "code",
   "execution_count": 232,
   "metadata": {},
   "outputs": [
    {
     "name": "stdout",
     "output_type": "stream",
     "text": [
      "There are 19 curated cols:\n",
      "['Date', 'White', 'Black', 'Opening', 'WhiteElo', 'BlackElo', 'TimeControl', 'Termination', 'StartTime', 'EndDate', 'EndTime', 'Hour', 'Day Name', 'rated', 'time_class', 'Game Result', 'End State', 'Player Rating', 'Opponent Rating']\n"
     ]
    }
   ],
   "source": [
    "curated_columns = [\n",
    "    'Date',\n",
    "    'White',\n",
    "    'Black',\n",
    "    'Opening',\n",
    "    'WhiteElo',\n",
    "    'BlackElo',\n",
    "    'TimeControl',\n",
    "    'Termination',\n",
    "    'StartTime',\n",
    "    'EndDate',\n",
    "    'EndTime',\n",
    "    'Hour',\n",
    "    'Day Name',\n",
    "    'rated',\n",
    "    'time_class',\n",
    "    'Game Result',\n",
    "    'End State',\n",
    "    'Player Rating',\n",
    "    'Opponent Rating'\n",
    "]\n",
    "\n",
    "df_curated = df_original[curated_columns]\n",
    "print(f'There are {df_curated.shape[1]} curated cols:\\n{list(df_curated.columns)}')"
   ]
  },
  {
   "attachments": {},
   "cell_type": "markdown",
   "metadata": {},
   "source": [
    "#### Filtering Ranked Games"
   ]
  },
  {
   "cell_type": "code",
   "execution_count": 233,
   "metadata": {},
   "outputs": [
    {
     "data": {
      "text/html": [
       "<div>\n",
       "<style scoped>\n",
       "    .dataframe tbody tr th:only-of-type {\n",
       "        vertical-align: middle;\n",
       "    }\n",
       "\n",
       "    .dataframe tbody tr th {\n",
       "        vertical-align: top;\n",
       "    }\n",
       "\n",
       "    .dataframe thead th {\n",
       "        text-align: right;\n",
       "    }\n",
       "</style>\n",
       "<table border=\"1\" class=\"dataframe\">\n",
       "  <thead>\n",
       "    <tr style=\"text-align: right;\">\n",
       "      <th></th>\n",
       "      <th>Date</th>\n",
       "      <th>White</th>\n",
       "      <th>Black</th>\n",
       "      <th>Opening</th>\n",
       "      <th>WhiteElo</th>\n",
       "      <th>BlackElo</th>\n",
       "      <th>TimeControl</th>\n",
       "      <th>Termination</th>\n",
       "      <th>StartTime</th>\n",
       "      <th>EndDate</th>\n",
       "      <th>EndTime</th>\n",
       "      <th>Hour</th>\n",
       "      <th>Day Name</th>\n",
       "      <th>rated</th>\n",
       "      <th>time_class</th>\n",
       "      <th>Game Result</th>\n",
       "      <th>End State</th>\n",
       "      <th>Player Rating</th>\n",
       "      <th>Opponent Rating</th>\n",
       "    </tr>\n",
       "  </thead>\n",
       "  <tbody>\n",
       "    <tr>\n",
       "      <th>1834</th>\n",
       "      <td>2023-04-06</td>\n",
       "      <td>BigBlueBooMan</td>\n",
       "      <td>filiplivancic</td>\n",
       "      <td>Queens Gambit Declined</td>\n",
       "      <td>838</td>\n",
       "      <td>815</td>\n",
       "      <td>180+2</td>\n",
       "      <td>BigBlueBooMan won by checkmate</td>\n",
       "      <td>23:04:47</td>\n",
       "      <td>2023-04-06</td>\n",
       "      <td>23:12:24</td>\n",
       "      <td>23</td>\n",
       "      <td>Thursday</td>\n",
       "      <td>True</td>\n",
       "      <td>blitz</td>\n",
       "      <td>Loss</td>\n",
       "      <td>checkmate</td>\n",
       "      <td>815</td>\n",
       "      <td>838</td>\n",
       "    </tr>\n",
       "    <tr>\n",
       "      <th>1835</th>\n",
       "      <td>2023-04-07</td>\n",
       "      <td>santisfall</td>\n",
       "      <td>filiplivancic</td>\n",
       "      <td>French Defense Marshall Variation</td>\n",
       "      <td>783</td>\n",
       "      <td>822</td>\n",
       "      <td>180+2</td>\n",
       "      <td>filiplivancic won on time</td>\n",
       "      <td>12:29:39</td>\n",
       "      <td>2023-04-07</td>\n",
       "      <td>12:36:51</td>\n",
       "      <td>12</td>\n",
       "      <td>Friday</td>\n",
       "      <td>True</td>\n",
       "      <td>blitz</td>\n",
       "      <td>Win</td>\n",
       "      <td>time</td>\n",
       "      <td>822</td>\n",
       "      <td>783</td>\n",
       "    </tr>\n",
       "    <tr>\n",
       "      <th>1836</th>\n",
       "      <td>2023-04-07</td>\n",
       "      <td>L_aa</td>\n",
       "      <td>filiplivancic</td>\n",
       "      <td>French Defense Marshall Variation</td>\n",
       "      <td>922</td>\n",
       "      <td>816</td>\n",
       "      <td>180+2</td>\n",
       "      <td>L_aa won by checkmate</td>\n",
       "      <td>14:04:16</td>\n",
       "      <td>2023-04-07</td>\n",
       "      <td>14:11:05</td>\n",
       "      <td>14</td>\n",
       "      <td>Friday</td>\n",
       "      <td>True</td>\n",
       "      <td>blitz</td>\n",
       "      <td>Loss</td>\n",
       "      <td>checkmate</td>\n",
       "      <td>816</td>\n",
       "      <td>922</td>\n",
       "    </tr>\n",
       "  </tbody>\n",
       "</table>\n",
       "</div>"
      ],
      "text/plain": [
       "           Date          White          Black  \\\n",
       "1834 2023-04-06  BigBlueBooMan  filiplivancic   \n",
       "1835 2023-04-07     santisfall  filiplivancic   \n",
       "1836 2023-04-07           L_aa  filiplivancic   \n",
       "\n",
       "                                Opening WhiteElo BlackElo TimeControl  \\\n",
       "1834             Queens Gambit Declined      838      815       180+2   \n",
       "1835  French Defense Marshall Variation      783      822       180+2   \n",
       "1836  French Defense Marshall Variation      922      816       180+2   \n",
       "\n",
       "                         Termination StartTime    EndDate   EndTime  Hour  \\\n",
       "1834  BigBlueBooMan won by checkmate  23:04:47 2023-04-06  23:12:24    23   \n",
       "1835       filiplivancic won on time  12:29:39 2023-04-07  12:36:51    12   \n",
       "1836           L_aa won by checkmate  14:04:16 2023-04-07  14:11:05    14   \n",
       "\n",
       "      Day Name  rated time_class Game Result  End State  Player Rating  \\\n",
       "1834  Thursday   True      blitz        Loss  checkmate            815   \n",
       "1835    Friday   True      blitz         Win       time            822   \n",
       "1836    Friday   True      blitz        Loss  checkmate            816   \n",
       "\n",
       "      Opponent Rating  \n",
       "1834              838  \n",
       "1835              783  \n",
       "1836              922  "
      ]
     },
     "execution_count": 233,
     "metadata": {},
     "output_type": "execute_result"
    }
   ],
   "source": [
    "# Filtering Down to Rated Games to specific time classifications\n",
    "df_blitz_600 = df_curated.loc[\n",
    "                                    (df_curated['time_class']=='blitz')\n",
    "                                  & (df_curated['TimeControl']=='600')\n",
    "                                  & (df_curated['rated'] == True)\n",
    "                                  ].reset_index(drop=True)\n",
    "\n",
    "df_blitz_180_2 = df_curated.loc[\n",
    "                                    (df_curated['time_class']=='blitz')\n",
    "                                  & (df_curated['TimeControl']=='180+2')\n",
    "                                  & (df_curated['rated'] == True)\n",
    "                                  ].reset_index(drop=True)\n",
    "\n",
    "df_blitz = df_curated.loc[\n",
    "                                    (df_curated['time_class']=='blitz') \n",
    "                                  & (df_curated['rated'] == True)\n",
    "                                  ].reset_index(drop=True)\n",
    "df_blitz[-3:]"
   ]
  },
  {
   "cell_type": "markdown",
   "metadata": {},
   "source": [
    "## Applying Data Aggregation Techniques"
   ]
  },
  {
   "cell_type": "code",
   "execution_count": 234,
   "metadata": {},
   "outputs": [],
   "source": [
    "def percentage_string(value):\n",
    "    return \"{:.1%}\".format(value)"
   ]
  },
  {
   "attachments": {},
   "cell_type": "markdown",
   "metadata": {},
   "source": [
    "#### Chess Opening Statistics"
   ]
  },
  {
   "cell_type": "code",
   "execution_count": 235,
   "metadata": {},
   "outputs": [
    {
     "data": {
      "text/html": [
       "<div>\n",
       "<style scoped>\n",
       "    .dataframe tbody tr th:only-of-type {\n",
       "        vertical-align: middle;\n",
       "    }\n",
       "\n",
       "    .dataframe tbody tr th {\n",
       "        vertical-align: top;\n",
       "    }\n",
       "\n",
       "    .dataframe thead th {\n",
       "        text-align: right;\n",
       "    }\n",
       "</style>\n",
       "<table border=\"1\" class=\"dataframe\">\n",
       "  <thead>\n",
       "    <tr style=\"text-align: right;\">\n",
       "      <th>Game Result</th>\n",
       "      <th>Draw</th>\n",
       "      <th>Loss</th>\n",
       "      <th>Win</th>\n",
       "      <th>Games Played</th>\n",
       "      <th>Win Ratio</th>\n",
       "    </tr>\n",
       "    <tr>\n",
       "      <th>Opening</th>\n",
       "      <th></th>\n",
       "      <th></th>\n",
       "      <th></th>\n",
       "      <th></th>\n",
       "      <th></th>\n",
       "    </tr>\n",
       "  </thead>\n",
       "  <tbody>\n",
       "    <tr>\n",
       "      <th>Kings Pawn Opening Leonardis Variation</th>\n",
       "      <td>3.0</td>\n",
       "      <td>34.0</td>\n",
       "      <td>39.0</td>\n",
       "      <td>76.0</td>\n",
       "      <td>51.3%</td>\n",
       "    </tr>\n",
       "    <tr>\n",
       "      <th>French Defense</th>\n",
       "      <td>3.0</td>\n",
       "      <td>15.0</td>\n",
       "      <td>26.0</td>\n",
       "      <td>44.0</td>\n",
       "      <td>59.1%</td>\n",
       "    </tr>\n",
       "    <tr>\n",
       "      <th>French Defense Knight Variation</th>\n",
       "      <td>3.0</td>\n",
       "      <td>22.0</td>\n",
       "      <td>17.0</td>\n",
       "      <td>42.0</td>\n",
       "      <td>40.5%</td>\n",
       "    </tr>\n",
       "    <tr>\n",
       "      <th>French Defense Normal Variation</th>\n",
       "      <td>3.0</td>\n",
       "      <td>22.0</td>\n",
       "      <td>15.0</td>\n",
       "      <td>40.0</td>\n",
       "      <td>37.5%</td>\n",
       "    </tr>\n",
       "    <tr>\n",
       "      <th>Queens Pawn Opening Horwitz Defense 2.Bf4</th>\n",
       "      <td>1.0</td>\n",
       "      <td>16.0</td>\n",
       "      <td>13.0</td>\n",
       "      <td>30.0</td>\n",
       "      <td>43.3%</td>\n",
       "    </tr>\n",
       "    <tr>\n",
       "      <th>Petrovs Defense Urusov Gambit</th>\n",
       "      <td>2.0</td>\n",
       "      <td>12.0</td>\n",
       "      <td>15.0</td>\n",
       "      <td>29.0</td>\n",
       "      <td>51.7%</td>\n",
       "    </tr>\n",
       "    <tr>\n",
       "      <th>Philidor Defense 3.Bc4</th>\n",
       "      <td>1.0</td>\n",
       "      <td>13.0</td>\n",
       "      <td>14.0</td>\n",
       "      <td>28.0</td>\n",
       "      <td>50.0%</td>\n",
       "    </tr>\n",
       "    <tr>\n",
       "      <th>Scandinavian Defense 2.e5</th>\n",
       "      <td>3.0</td>\n",
       "      <td>13.0</td>\n",
       "      <td>11.0</td>\n",
       "      <td>27.0</td>\n",
       "      <td>40.7%</td>\n",
       "    </tr>\n",
       "    <tr>\n",
       "      <th>French Defense Knight Variation 2...d5 3.exd5</th>\n",
       "      <td>1.0</td>\n",
       "      <td>14.0</td>\n",
       "      <td>11.0</td>\n",
       "      <td>26.0</td>\n",
       "      <td>42.3%</td>\n",
       "    </tr>\n",
       "    <tr>\n",
       "      <th>Center Game</th>\n",
       "      <td>0.0</td>\n",
       "      <td>15.0</td>\n",
       "      <td>11.0</td>\n",
       "      <td>26.0</td>\n",
       "      <td>42.3%</td>\n",
       "    </tr>\n",
       "  </tbody>\n",
       "</table>\n",
       "</div>"
      ],
      "text/plain": [
       "Game Result                                    Draw  Loss   Win  Games Played  \\\n",
       "Opening                                                                         \n",
       "Kings Pawn Opening Leonardis Variation          3.0  34.0  39.0          76.0   \n",
       "French Defense                                  3.0  15.0  26.0          44.0   \n",
       "French Defense Knight Variation                 3.0  22.0  17.0          42.0   \n",
       "French Defense Normal Variation                 3.0  22.0  15.0          40.0   \n",
       "Queens Pawn Opening Horwitz Defense 2.Bf4       1.0  16.0  13.0          30.0   \n",
       "Petrovs Defense Urusov Gambit                   2.0  12.0  15.0          29.0   \n",
       "Philidor Defense 3.Bc4                          1.0  13.0  14.0          28.0   \n",
       "Scandinavian Defense 2.e5                       3.0  13.0  11.0          27.0   \n",
       "French Defense Knight Variation 2...d5 3.exd5   1.0  14.0  11.0          26.0   \n",
       "Center Game                                     0.0  15.0  11.0          26.0   \n",
       "\n",
       "Game Result                                   Win Ratio  \n",
       "Opening                                                  \n",
       "Kings Pawn Opening Leonardis Variation            51.3%  \n",
       "French Defense                                    59.1%  \n",
       "French Defense Knight Variation                   40.5%  \n",
       "French Defense Normal Variation                   37.5%  \n",
       "Queens Pawn Opening Horwitz Defense 2.Bf4         43.3%  \n",
       "Petrovs Defense Urusov Gambit                     51.7%  \n",
       "Philidor Defense 3.Bc4                            50.0%  \n",
       "Scandinavian Defense 2.e5                         40.7%  \n",
       "French Defense Knight Variation 2...d5 3.exd5     42.3%  \n",
       "Center Game                                       42.3%  "
      ]
     },
     "execution_count": 235,
     "metadata": {},
     "output_type": "execute_result"
    }
   ],
   "source": [
    "#Grouping Most Played Chess Openings\n",
    "df_openings = df_blitz.groupby(['Opening','Game Result'])['rated'].count().reset_index(name='Games')\n",
    "df_openings = df_openings.pivot(index='Opening',columns=['Game Result'],values='Games')\n",
    "df_openings = df_openings.fillna(0)\n",
    "df_openings['Draw'][0]\n",
    "\n",
    "#Calculating Win Ratio for Each Opening\n",
    "total_games = []\n",
    "win_ratio   = []\n",
    "for i in range(df_openings.shape[0]):\n",
    "    open_total = df_openings['Draw'][i] + df_openings['Loss'][i] + df_openings['Win'][i]\n",
    "    opening_win_ratio  = df_openings['Win'][i]/open_total\n",
    "    total_games.append(open_total)\n",
    "    win_ratio.append(percentage_string(opening_win_ratio))\n",
    "\n",
    "#Appending List of Ratios to Pivot Table\n",
    "df_openings['Games Played'] = total_games\n",
    "df_openings['Win Ratio'] = win_ratio\n",
    "df_openings = df_openings.sort_values(by=['Games Played'],ascending=False)\n",
    "df_openings.head(10)\n"
   ]
  },
  {
   "cell_type": "code",
   "execution_count": 236,
   "metadata": {},
   "outputs": [
    {
     "data": {
      "image/png": "[encoded data removed]",
      "text/plain": [
       "<Figure size 1080x360 with 1 Axes>"
      ]
     },
     "metadata": {
      "needs_background": "light"
     },
     "output_type": "display_data"
    }
   ],
   "source": [
    "#Setting number of openings to display and wrapping text for readability\n",
    "number_of_openings = 15\n",
    "opening_name_newlines = ['\\n'.join(wrap(open,10)) for i,open in enumerate(df_openings.index[0:number_of_openings])]\n",
    "# opening_name_newlines = [('\\n' if i % 2 == 1 else '') + opening_name_newlines[i]  for i in range(number_of_openings)] #KEEP IN CASE WE NEED TO ALTERNATE Y POSITION OF X-TICK\n",
    "\n",
    "fig, ax = plt.subplots(figsize=(15,5))\n",
    "ax.bar(opening_name_newlines,df_openings['Games Played'].head(number_of_openings))\n",
    "ax.set_title(f'{player} - Top {number_of_openings} Openings Played ',loc='left',fontsize=16)\n",
    "ax.set_xlabel('Opening', fontsize = 10)\n",
    "ax.set_ylabel('Games Played', fontsize=10)\n",
    "\n",
    "# plt.subplots_adjust(bottom=0.25) #adjusting plot to prevent x-label cutoff\n",
    "plt.tight_layout()"
   ]
  },
  {
   "attachments": {},
   "cell_type": "markdown",
   "metadata": {},
   "source": [
    "#### Game Result Split by Time of Day"
   ]
  },
  {
   "cell_type": "code",
   "execution_count": 237,
   "metadata": {},
   "outputs": [
    {
     "data": {
      "image/png": "[encoded data removed]",
      "text/plain": [
       "<Figure size 864x288 with 1 Axes>"
      ]
     },
     "metadata": {
      "needs_background": "light"
     },
     "output_type": "display_data"
    }
   ],
   "source": [
    "# Making a table with all the hours to eliminate discontinuity in dataset\n",
    "hour_list = [i for i in range(24)]\n",
    "hour_table = pd.DataFrame(hour_list,columns={'Hour'})\n",
    "\n",
    "#Grouping data and performing right join to fill in potential gaps for the dims\n",
    "df_time = df_blitz.groupby(['Hour'])['rated'].count().reset_index(name='Games')\n",
    "df_time = pd.merge(df_time,hour_table,on='Hour',how='right')\n",
    "\n",
    "fig, ax = plt.subplots(figsize=(12,4))\n",
    "ax.bar(df_time['Hour'],df_time['Games'])\n",
    "ax.set_title(f'{player} - Games Played - Time of Day Distribution',loc='left',fontsize=16)\n",
    "ax.set_xlabel('Hour of Day', fontsize = 10)\n",
    "ax.set_ylabel('Games Played', fontsize=10)\n",
    "plt.tight_layout()\n",
    "\n",
    "plt.savefig('charts/time_of_day.png',edgecolor='darkslategrey',dpi=150)"
   ]
  },
  {
   "attachments": {},
   "cell_type": "markdown",
   "metadata": {},
   "source": [
    "#### Game Result Split by Day of Week"
   ]
  },
  {
   "cell_type": "code",
   "execution_count": 238,
   "metadata": {},
   "outputs": [
    {
     "data": {
      "image/png": "[encoded data removed]",
      "text/plain": [
       "<Figure size 864x288 with 1 Axes>"
      ]
     },
     "metadata": {
      "needs_background": "light"
     },
     "output_type": "display_data"
    }
   ],
   "source": [
    "# Making a table with all the day names to eliminate discontinuity in dataset\n",
    "dayName_list = [\n",
    "    'Monday',\n",
    "    'Tuesday',\n",
    "    'Wednesday',\n",
    "    'Thursday',\n",
    "    'Friday',\n",
    "    'Saturday',\n",
    "    'Sunday'\n",
    "]\n",
    "dayName_table = pd.DataFrame(dayName_list,columns={'Day Name'})\n",
    "\n",
    "#Grouping data and performing right join to fill in potential gaps for the dims\n",
    "df_day_name = df_blitz.groupby(['Day Name'])['rated'].count().reset_index(name='Games')\n",
    "df_day_name = pd.merge(df_day_name,dayName_table,on='Day Name',how='right')\n",
    "\n",
    "fig, ax = plt.subplots(figsize=(12,4))\n",
    "ax.bar(df_day_name['Day Name'],df_day_name['Games'])\n",
    "ax.set_title(f'{player} - Games Played - Day of Week Distribution',loc='left',fontsize=16)\n",
    "ax.set_xlabel('Day', fontsize = 10)\n",
    "ax.set_ylabel('Games Played', fontsize=10)\n",
    "plt.tight_layout()\n",
    "\n",
    "plt.savefig('charts/day_of_week.png',edgecolor='darkslategrey',dpi=150)"
   ]
  },
  {
   "attachments": {},
   "cell_type": "markdown",
   "metadata": {},
   "source": [
    "#### Game Result Summary"
   ]
  },
  {
   "cell_type": "code",
   "execution_count": 239,
   "metadata": {},
   "outputs": [],
   "source": [
    "del dict\n",
    "def pie_chart_maker(table,title,center_text,category,count,output_file):\n",
    "\n",
    "    # Arranging Data Labels\n",
    "    game_total = sum(table[count])\n",
    "    result_labels = []\n",
    "    for i in range(table.shape[0]):\n",
    "        result = table.at[i,category]\n",
    "        game_count = table.at[i,count]\n",
    "        result_labels.append(f'{result}\\n{game_count}')\n",
    "\n",
    "    # Plotting Summary of Results\n",
    "    fig, ax = plt.subplots(figsize=(5, 5), linewidth = 4 ,subplot_kw=dict(aspect=\"equal\"))\n",
    "\n",
    "    # Setting a backround color\n",
    "    fig.set_facecolor('white')\n",
    "\n",
    "    # Creating pie elements\n",
    "    wedges, texts = ax.pie(table[count], wedgeprops=dict(width=0.5), startangle=-40)\n",
    "    bbox_props = dict(boxstyle=\"square,pad=0.3\", fc=\"w\", ec=\"0\", lw=0.72)\n",
    "    kw = dict(arrowprops=dict(arrowstyle=\"-\"),\n",
    "            bbox=bbox_props, zorder=0, va=\"center\")\n",
    "\n",
    "    # Annotations\n",
    "    ax.set_title(title,color='black',fontsize=13)\n",
    "    ax.annotate(f'Games\\n {center_text}:\\n{game_total}', xy=(0, 0), xytext=(0, 0),\n",
    "                horizontalalignment='center',fontsize = 10.5, **kw)\n",
    "\n",
    "    # Creating Wedges\n",
    "    for i, p in enumerate(wedges):\n",
    "        ang = (p.theta2 - p.theta1)/2. + p.theta1\n",
    "        y = np.sin(np.deg2rad(ang))\n",
    "        x = np.cos(np.deg2rad(ang))\n",
    "        horizontalalignment = {-1: \"right\", 1: \"left\"}[int(np.sign(x))]\n",
    "        connectionstyle = \"angle,angleA=0,angleB={}\".format(ang)\n",
    "        kw[\"arrowprops\"].update({\"connectionstyle\": connectionstyle})\n",
    "        ax.annotate(result_labels[i], xy=(x, y), xytext=(1.5*np.sign(x), 1.1*y),\n",
    "                    horizontalalignment='center',fontsize = 9, **kw)\n",
    "\n",
    "    plt.savefig(f'charts/{output_file}',edgecolor='darkslategrey',dpi=150)"
   ]
  },
  {
   "cell_type": "code",
   "execution_count": 240,
   "metadata": {},
   "outputs": [
    {
     "data": {
      "image/png": "[encoded data removed]",
      "text/plain": [
       "<Figure size 360x360 with 1 Axes>"
      ]
     },
     "metadata": {},
     "output_type": "display_data"
    }
   ],
   "source": [
    "# Split by Game Result\n",
    "table = df_blitz.groupby(['Game Result'])['rated'].count().reset_index(name='Games')\n",
    "title = f'\\nOverall Chess Summary:\\n{player}'\n",
    "center_text = 'Played'\n",
    "category = 'Game Result'\n",
    "count = 'Games'\n",
    "output_file = 'chess_summary_pie.png'\n",
    "pie_chart_maker(table,title,center_text,category,count,output_file)"
   ]
  },
  {
   "cell_type": "code",
   "execution_count": 241,
   "metadata": {},
   "outputs": [],
   "source": [
    "# Split by End State\n",
    "df_end_state_summary = df_blitz.groupby(['Game Result','End State'])['rated'].count().reset_index(name='Games')"
   ]
  },
  {
   "cell_type": "code",
   "execution_count": 242,
   "metadata": {},
   "outputs": [
    {
     "data": {
      "image/png": "[encoded data removed]",
      "text/plain": [
       "<Figure size 360x360 with 1 Axes>"
      ]
     },
     "metadata": {},
     "output_type": "display_data"
    }
   ],
   "source": [
    "# Split by Winning End States\n",
    "table = df_end_state_summary.loc[df_end_state_summary['Game Result']=='Win'].reset_index(drop=True)\n",
    "title = f'\\nGames Won By:\\n{player}'\n",
    "center_text = 'Won'\n",
    "category = 'End State'\n",
    "count = 'Games'\n",
    "output_file = 'winning_end_pie.png'\n",
    "pie_chart_maker(table,title,center_text,category,count,output_file)"
   ]
  },
  {
   "cell_type": "code",
   "execution_count": 243,
   "metadata": {},
   "outputs": [
    {
     "data": {
      "image/png": "[encoded data removed]",
      "text/plain": [
       "<Figure size 360x360 with 1 Axes>"
      ]
     },
     "metadata": {},
     "output_type": "display_data"
    }
   ],
   "source": [
    "# Split by Losing End States\n",
    "table = df_end_state_summary.loc[df_end_state_summary['Game Result']=='Loss'].reset_index(drop=True)\n",
    "title = f'\\nGames Lost By:\\n{player}'\n",
    "center_text = 'Lost'\n",
    "category = 'End State'\n",
    "count = 'Games'\n",
    "output_file = 'losing_end_pie.png'\n",
    "pie_chart_maker(table,title,center_text,category,count,output_file)"
   ]
  },
  {
   "cell_type": "code",
   "execution_count": 244,
   "metadata": {},
   "outputs": [
    {
     "data": {
      "image/png": "[encoded data removed]",
      "text/plain": [
       "<Figure size 360x360 with 1 Axes>"
      ]
     },
     "metadata": {},
     "output_type": "display_data"
    }
   ],
   "source": [
    "# Split by Drawn Status\n",
    "table = df_end_state_summary.loc[df_end_state_summary['Game Result']=='Draw'].reset_index(drop=True)\n",
    "title = f'\\nGames Drawn By:\\n{player}'\n",
    "center_text = 'Drawn'\n",
    "category = 'End State'\n",
    "count = 'Games'\n",
    "output_file = 'draw_end_pie.png'\n",
    "pie_chart_maker(table,title,center_text,category,count,output_file)"
   ]
  },
  {
   "cell_type": "markdown",
   "metadata": {},
   "source": [
    "# Plotting the Rating Change Over Time\n",
    "\n"
   ]
  },
  {
   "cell_type": "code",
   "execution_count": 245,
   "metadata": {},
   "outputs": [
    {
     "data": {
      "image/png": "[encoded data removed]",
      "text/plain": [
       "<Figure size 648x360 with 1 Axes>"
      ]
     },
     "metadata": {
      "needs_background": "light"
     },
     "output_type": "display_data"
    }
   ],
   "source": [
    "fig, ax = plt.subplots(figsize=(9,5))\n",
    "ax.plot(df_blitz.index,df_blitz['Player Rating'])\n",
    "# ax.plot(df_blitz.index,df_blitz['Opponent Rating'])\n",
    "ax.set_title(f'{player} - Blitz Chess - Rating History',loc='left',fontsize=16)\n",
    "ax.set_xlabel('Games Played', fontsize = 10)\n",
    "ax.set_ylabel('Chess Rating', fontsize=10)\n",
    "plt.tight_layout()\n",
    "\n",
    "plt.savefig(pathing('charts','raw_rating_line.png'),dpi=150)"
   ]
  },
  {
   "cell_type": "markdown",
   "metadata": {},
   "source": [
    "## Applying a moving Average on the Rating Data"
   ]
  },
  {
   "cell_type": "code",
   "execution_count": 246,
   "metadata": {},
   "outputs": [
    {
     "data": {
      "image/png": "[encoded data removed]",
      "text/plain": [
       "<Figure size 648x360 with 1 Axes>"
      ]
     },
     "metadata": {
      "needs_background": "light"
     },
     "output_type": "display_data"
    }
   ],
   "source": [
    "#Applying 100 point moving average\n",
    "df_blitz_avg = df_blitz.copy()\n",
    "window_size = 300\n",
    "player_avg_data= []\n",
    "opponent_avg_data= []\n",
    "for i in range(df_blitz_avg.shape[0]):\n",
    "    player_mov_avg = df_blitz_avg.loc[i:(i+window_size),'Player Rating'].mean()\n",
    "    opponent_mov_avg = df_blitz_avg.loc[i:(i+window_size),'Opponent Rating'].mean()\n",
    "    player_avg_data.append(player_mov_avg)\n",
    "    opponent_avg_data.append(opponent_mov_avg)\n",
    "\n",
    "#Appending list to dataframe\n",
    "df_blitz_avg['Player Average Rating'] = player_avg_data\n",
    "df_blitz_avg['Opponent Average Rating'] = opponent_avg_data\n",
    "\n",
    "#Plotting Averaged Data\n",
    "fig, ax = plt.subplots(figsize=(9,5))\n",
    "ax.plot(df_blitz_avg.index,df_blitz_avg['Player Average Rating'])\n",
    "ax.plot(df_blitz_avg.index,df_blitz_avg['Opponent Average Rating'])\n",
    "ax.set_title(f'{player} - Blitz Chess - Rating History - {window_size} Point Moving Average',loc='left',fontsize=14)\n",
    "ax.set_xlabel('Games Played', fontsize = 10)\n",
    "ax.set_ylabel('Chess Rating', fontsize=10)\n",
    "plt.tight_layout()\n",
    "\n",
    "plt.savefig(pathing('charts','avg_rating_line.png'),dpi=100)"
   ]
  },
  {
   "cell_type": "markdown",
   "metadata": {},
   "source": [
    "## Initialising XlsxWriter Workbook And Exporting Tables to .xlsx"
   ]
  },
  {
   "cell_type": "code",
   "execution_count": 247,
   "metadata": {},
   "outputs": [],
   "source": [
    "# #----------------------------------------------------------------------------------------------------------------------\n",
    "# #--------------------------------------------.xlsx workbook initialisation---------------------------------------------\n",
    "# #----------------------------------------------------------------------------------------------------------------------\n",
    "\n",
    "# #Excel Output Filepath\n",
    "# excelpath = pathing('xlsx_data','chess_data.xlsx')\n",
    "\n",
    "# #Generating .xlsx workbook in which to record dataframes for usage.\n",
    "# writer = pd.ExcelWriter(excelpath,engine='xlsxwriter')   \n",
    "# workbook=writer.book\n",
    "# worksheet='' #Initialise variable\n",
    "# startrow = 0 #Initialise variable\n",
    "# startcol = 0 #Initialise variable\n",
    "# v_idx = 0    #initialise counter to index vertical chart insertions\n",
    "# lr_pos = 0   #initialise left right insertion variable\n",
    "\n",
    "# #----------------------------------------------------------------------------------------------------------------------\n",
    "# #----------------------------------------------------------------------------------------------------------------------"
   ]
  },
  {
   "cell_type": "code",
   "execution_count": 248,
   "metadata": {},
   "outputs": [],
   "source": [
    "# #Summary Table\n",
    "# data_table = df_winLoss\n",
    "# sheet_name = 'Summary'\n",
    "# title_str = f'Chess Summary Stats - {player}'\n",
    "# col_width_list = [20,20,20]\n",
    "# [startrow,startcol,worksheet,workbook,writer] = xlsx_table_writer(data_table,sheet_name,col_width_list,title_str,startrow,startcol,worksheet,workbook,writer)"
   ]
  },
  {
   "cell_type": "code",
   "execution_count": 249,
   "metadata": {},
   "outputs": [],
   "source": [
    "# #Openings Table\n",
    "# data_table = df_openings\n",
    "# sheet_name = 'Openings'\n",
    "# title_str = f'Chess Opening Count - {player}'\n",
    "# col_width_list = [40,20,20]\n",
    "# [startrow,startcol,worksheet,workbook,writer] = xlsx_table_writer(data_table,sheet_name,col_width_list,title_str,startrow,startcol,worksheet,workbook,writer)"
   ]
  },
  {
   "cell_type": "code",
   "execution_count": 250,
   "metadata": {},
   "outputs": [],
   "source": [
    "# #Results Table\n",
    "# data_table = result_avg_df\n",
    "# sheet_name = 'Rating History'\n",
    "# title_str = f'Chess Rating History - {player}'\n",
    "# col_width_list = [7,7,17,9,22,15]\n",
    "# [startrow,startcol,worksheet,workbook,writer] = xlsx_table_writer(data_table,sheet_name,col_width_list,title_str,startrow,startcol,worksheet,workbook,writer)"
   ]
  },
  {
   "cell_type": "code",
   "execution_count": 251,
   "metadata": {},
   "outputs": [],
   "source": [
    "# #Save into Excel and Exit Python out of File\n",
    "# writer.close()"
   ]
  }
 ],
 "metadata": {
  "kernelspec": {
   "display_name": "base",
   "language": "python",
   "name": "python3"
  },
  "language_info": {
   "codemirror_mode": {
    "name": "ipython",
    "version": 3
   },
   "file_extension": ".py",
   "mimetype": "text/x-python",
   "name": "python",
   "nbconvert_exporter": "python",
   "pygments_lexer": "ipython3",
   "version": "3.9.12"
  },
  "orig_nbformat": 4,
  "vscode": {
   "interpreter": {
    "hash": "a5d7684ec75952edafaf0a83c405a14a93299776483ba143ad281ab3fd160234"
   }
  }
 },
 "nbformat": 4,
 "nbformat_minor": 2
}
