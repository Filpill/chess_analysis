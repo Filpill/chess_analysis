{
 "cells": [
  {
   "cell_type": "code",
   "execution_count": null,
   "metadata": {},
   "outputs": [],
   "source": [
    "# Importing Local Functions\n",
    "import sys\n",
    "sys.path.append(\"../functions\")\n",
    "sys.path.append(\"../inputs\")\n",
    "\n",
    "from gcs_ingestion import *\n",
    "from shared import *"
   ]
  },
  {
   "cell_type": "code",
   "execution_count": null,
   "metadata": {},
   "outputs": [],
   "source": [
    "# Initialise Logger Object\n",
    "logger = initialise_cloud_logger(project_name)\n",
    "\n",
    "# Use the function in case of need to ammend the GCS filename prefixes\n",
    "# Default boolean value should be False\n",
    "is_renaming_gcs_files = False\n",
    "if is_renaming_gcs_files == True:\n",
    "    logger.info('Changing GCS file prefixes')\n",
    "    prefix_to_add = 'players'\n",
    "    excluded_prefixes = 'leaderboards/'\n",
    "    append_prefix_to_gcs_files(prefix_to_add, excluded_prefixes, logger)"
   ]
  }
 ],
 "metadata": {
  "language_info": {
   "name": "python"
  }
 },
 "nbformat": 4,
 "nbformat_minor": 2
}
