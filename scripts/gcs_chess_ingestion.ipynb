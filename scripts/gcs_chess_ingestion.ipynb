{
 "cells": [
  {
   "cell_type": "code",
   "execution_count": null,
   "metadata": {},
   "outputs": [],
   "source": [
    "# Importing Local Functions\n",
    "import sys\n",
    "sys.path.append(\"../functions\")\n",
    "sys.path.append(\"../inputs\")\n",
    "\n",
    "from gcs_ingestion import *\n",
    "from shared import *"
   ]
  },
  {
   "cell_type": "code",
   "execution_count": null,
   "metadata": {},
   "outputs": [],
   "source": [
    "# Reading Script Input Variables\n",
    "with open(\"../inputs/gcs_ingestion_settings.json\") as f:\n",
    "    gcs_ingestion_settings = json.load(f)\n",
    "\n",
    "start_date, end_date = script_date_selection(gcs_ingestion_settings)\n",
    "script_setting       = gcs_ingestion_settings.get(\"script_setting\")\n",
    "headers              = gcs_ingestion_settings.get(\"request_headers\")\n",
    "project_name         = gcs_ingestion_settings.get(\"project_id\")\n",
    "bucket_name          = gcs_ingestion_settings.get(\"bucket_name\")\n",
    "\n",
    "# Initialise Logger Object\n",
    "logger = initialise_cloud_logger(project_name)\n",
    "logger.info(f\"Project: {project_name} | Bucket: {bucket_name} | Script Setting: {script_setting} | Ingestion Dates: {start_date} - {end_date} \")"
   ]
  },
  {
   "cell_type": "code",
   "execution_count": null,
   "metadata": {},
   "outputs": [],
   "source": [
    "# Getting current leaderboard data of top chess players\n",
    "logger.info('Requesting the latest leaderboards')\n",
    "leaderboards_url = f'https://api.chess.com/pub/leaderboards'\n",
    "leaderboards_response = exponential_backoff_request(leaderboards_url, headers, logger)\n",
    "gcs_leaderboard_endpoint = f\"leaderboards/{datetime.now().strftime('%Y-%m-%d_%H-%M-%S')}\"\n",
    "upload_json_to_gcs_bucket(bucket_name, gcs_leaderboard_endpoint, leaderboards_response, logger)"
   ]
  },
  {
   "cell_type": "code",
   "execution_count": null,
   "metadata": {},
   "outputs": [],
   "source": [
    "# Determine list of requests for players and specified period\n",
    "year_month_list = generate_year_month_list(start_date, end_date)\n",
    "top_player_list =  get_top_player_list(leaderboards_response, logger)\n",
    "remaining_request_list = get_request_permutations(bucket_name, top_player_list, year_month_list, logger)\n",
    "\n",
    "# Iterating through each request permutation and uploading to GCS\n",
    "request_all_games_and_upload_to_gcs(bucket_name, top_player_list, year_month_list, headers, logger)"
   ]
  }
 ],
 "metadata": {
  "kernelspec": {
   "display_name": ".venv",
   "language": "python",
   "name": "python3"
  },
  "language_info": {
   "codemirror_mode": {
    "name": "ipython",
    "version": 3
   },
   "file_extension": ".py",
   "mimetype": "text/x-python",
   "name": "python",
   "nbconvert_exporter": "python",
   "pygments_lexer": "ipython3",
   "version": "3.13.2"
  },
  "orig_nbformat": 4
 },
 "nbformat": 4,
 "nbformat_minor": 2
}
