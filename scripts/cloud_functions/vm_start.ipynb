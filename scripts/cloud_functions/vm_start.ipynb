{
 "cells": [
  {
   "cell_type": "code",
   "execution_count": null,
   "metadata": {},
   "outputs": [],
   "source": [
    "import json\n",
    "import logging\n",
    "import google.cloud.logging as cloud_logging\n",
    "from googleapiclient import discovery\n",
    "from google.oauth2 import service_account\n",
    "from google.cloud import secretmanager\n",
    "\n",
    "SECRET_ID     = 'VM_SERVICE_ACCOUNT'\n",
    "PROJECT_ID    = \"checkmate-453316\"\n",
    "ZONE          = \"europe-west2-b\"\n",
    "INSTANCE_NAME = \"chess-ingestion-vm\"\n",
    "MACHINE_TYPE  = \"e2-micro\"\n",
    "VPC_NAME      = \"filip-vpc\"\n",
    "SUBNET_NAME   = \"filip-vpc\"\n",
    "\n",
    "def initialise_cloud_logger(PROJECT_ID):\n",
    "    logging_client = cloud_logging.Client(project=PROJECT_ID)\n",
    "    logging_client.setup_logging()\n",
    "    logger = logging.getLogger(__name__)\n",
    "    logger.propagate = True\n",
    "    return logger\n",
    "\n",
    "def gcp_access_secret(PROJECT_ID, SECRET_ID, VERSION_ID=\"latest\"):\n",
    "    client = secretmanager.SecretManagerServiceClient()\n",
    "    name = f\"projects/{PROJECT_ID}/secrets/{SECRET_ID}/versions/{VERSION_ID}\"\n",
    "    response = client.access_secret_version(name=name)\n",
    "    return response.payload.data.decode('UTF-8')\n",
    "\n",
    "def create_vm(request):\n",
    "\n",
    "    # Initialise Logger Object\n",
    "    logger = initialise_cloud_logger(PROJECT_ID)\n",
    "    logger.info(f\"Project: {PROJECT_ID} | Initialising VM Script and Deploying VM\")\n",
    "\n",
    "    service_account_creds = gcp_access_secret(PROJECT_ID, SECRET_ID)\n",
    "    credentials = service_account.Credentials.from_service_account_file(service_account_creds)\n",
    "    compute = discovery.build('compute', 'v1', credentials=credentials)\n",
    "\n",
    "    config = {\n",
    "        \"name\": INSTANCE_NAME,\n",
    "        \"machineType\": f\"zones/{ZONE}/machineTypes/{MACHINE_TYPE}\",\n",
    "        \"disks\": [{\n",
    "            \"boot\": True,\n",
    "            \"initializeParams\": {\n",
    "                \"sourceImage\": \"projects/debian-cloud/global/images/family/debian-12\"\n",
    "            }\n",
    "        }],\n",
    "        \"networkInterfaces\": [{\n",
    "            \"network\": f\"projects/{PROJECT_ID}/global/networks/{VPC_NAME}\",\n",
    "            \"subnetwork\": f\"projects/{PROJECT_ID}/regions/{ZONE[:-2]}/subnetworks/{SUBNET_NAME}\",\n",
    "            \"accessConfigs\": [{\n",
    "                \"type\": \"ONE_TO_ONE_NAT\",  # Required for external access\n",
    "                \"name\": \"External NAT\"\n",
    "            }]\n",
    "        }]\n",
    "    }\n",
    "\n",
    "    operation = compute.instances().insert(\n",
    "        project=PROJECT_ID,\n",
    "        zone=ZONE,\n",
    "        body=config\n",
    "    ).execute()\n",
    "\n",
    "    return logging.info(f\"Instance {INSTANCE_NAME} creation started: {operation}\")"
   ]
  },
  {
   "cell_type": "code",
   "execution_count": 21,
   "metadata": {},
   "outputs": [
    {
     "data": {
      "text/plain": [
       "\"Instance chess-ingestion-vm creation started: {'kind': 'compute#operation', 'id': '2512460973966550698', 'name': 'operation-1742952516699-63134c19e4496-ac12bc05-55e510c0', 'zone': 'https://www.googleapis.com/compute/v1/projects/checkmate-453316/zones/europe-west2-b', 'operationType': 'insert', 'targetLink': 'https://www.googleapis.com/compute/v1/projects/checkmate-453316/zones/europe-west2-b/instances/chess-ingestion-vm', 'targetId': '4667222607258379946', 'status': 'RUNNING', 'user': 'startvm-sa@checkmate-453316.iam.gserviceaccount.com', 'progress': 0, 'insertTime': '2025-03-25T18:28:37.466-07:00', 'startTime': '2025-03-25T18:28:37.466-07:00', 'selfLink': 'https://www.googleapis.com/compute/v1/projects/checkmate-453316/zones/europe-west2-b/operations/operation-1742952516699-63134c19e4496-ac12bc05-55e510c0'}\""
      ]
     },
     "execution_count": 21,
     "metadata": {},
     "output_type": "execute_result"
    }
   ],
   "source": [
    "request=\"\"\n",
    "create_vm(request)"
   ]
  }
 ],
 "metadata": {
  "kernelspec": {
   "display_name": ".venv",
   "language": "python",
   "name": "python3"
  },
  "language_info": {
   "codemirror_mode": {
    "name": "ipython",
    "version": 3
   },
   "file_extension": ".py",
   "mimetype": "text/x-python",
   "name": "python",
   "nbconvert_exporter": "python",
   "pygments_lexer": "ipython3",
   "version": "3.11.11"
  }
 },
 "nbformat": 4,
 "nbformat_minor": 2
}
