{
 "cells": [
  {
   "cell_type": "code",
   "execution_count": 80,
   "metadata": {},
   "outputs": [],
   "source": [
    "import json\n",
    "import requests\n",
    "import google.cloud.logging as cloud_logging\n",
    "\n",
    "from datetime import date, datetime, timedelta\n",
    "from dateutil.relativedelta import relativedelta\n",
    "from google.cloud import storage\n",
    "from itertools import product\n",
    "from time import sleep"
   ]
  },
  {
   "cell_type": "code",
   "execution_count": 70,
   "metadata": {},
   "outputs": [],
   "source": [
    "def generate_year_month_list(start_date: datetime, end_date: datetime):\n",
    "\n",
    "    # Ensure we start from the first day of the start month\n",
    "    current_date = start_date.replace(day=1)\n",
    "\n",
    "    # Move end_date to the last complete month\n",
    "    if end_date.day > 1:  \n",
    "        end_date = end_date.replace(day=1)                           # Move to the first of the month\n",
    "        end_date = end_date.replace(month=end_date.month - 1 or 12)  # Step back one month\n",
    "        if end_date.month == 12:                                     # Handle year change if stepping back from January\n",
    "            end_date = end_date.replace(year=end_date.year - 1)\n",
    "\n",
    "    date_list = []\n",
    "\n",
    "    while current_date <= end_date:\n",
    "        date_list.append(current_date.strftime(\"%Y/%m\"))\n",
    "        # Move to the next month\n",
    "        next_month = current_date.month % 12 + 1\n",
    "        next_year = current_date.year + (1 if next_month == 1 else 0)\n",
    "        current_date = datetime(next_year, next_month, 1)\n",
    "\n",
    "    return date_list\n",
    "\n",
    "def upload_json_to_gcs_bucket(bucket_name, object_name, data):\n",
    "    client = storage.Client()\n",
    "    bucket = client.get_bucket(bucket_name)\n",
    "    blob = bucket.blob(object_name)\n",
    "    blob.upload_from_string(json.dumps(data.json()), content_type=\"application/json\")\n",
    "    print(f'Success | Uploaded {object_name} to GCS bucket: {bucket_name}')\n",
    "    \n",
    "def exponential_backoff_request(url, headers, max_retries=5, base_delay=1, max_delay=30):\n",
    "\n",
    "    retries = 0\n",
    "    while retries < max_retries:\n",
    "        response = requests.get(url, headers=headers)\n",
    "        if response.status_code == 200:\n",
    "            return response\n",
    "        \n",
    "        wait_time = min(base_delay * (2 ** retries) + random.uniform(0, 1), max_delay)\n",
    "        print(f\"Retry {retries + 1}/{max_retries} | URL: {url} | Waiting {wait_time:.2f} seconds before retrying...\")\n",
    "        time.sleep(wait_time)\n",
    "        retries += 1\n",
    "    \n",
    "    print(\"Max retries reached. Request failed.\")\n",
    "    return None\n",
    "\n",
    "def list_files_in_gcs(bucket_name):\n",
    "    client = storage.Client()\n",
    "    bucket = client.bucket(bucket_name)\n",
    "    blobs = bucket.list_blobs()\n",
    "    file_list = [blob.name for blob in blobs]\n",
    "    return file_list\n",
    "\n",
    "def append_prefix_to_gcs_files(prefix, excluded_prefixes):\n",
    "    client = storage.Client()\n",
    "    bucket = client.bucket(bucket_name)\n",
    "    blobs = bucket.list_blobs()\n",
    "    \n",
    "    # The for loop will exlude any files that should not be targeted in the renaming\n",
    "    for blob in blobs:\n",
    "        if any(blob.name.startswith(f\"{prefix}/\") for prefix in excluded_prefixes):\n",
    "            print(\"Skipping {blob.name} | Excluded from renaming process\")\n",
    "            continue\n",
    "\n",
    "        new_name = f\"{prefix}/{blob.name}\"\n",
    "        bucket.rename_blob(blob, new_name)\n",
    "        print(f\"Renamed {blob.name} -> {new_name}\")\n",
    "\n",
    "    "
   ]
  },
  {
   "cell_type": "code",
   "execution_count": 82,
   "metadata": {},
   "outputs": [],
   "source": [
    "# Date Variables\n",
    "script_setting = 'manual'\n",
    "\n",
    "if script_setting == 'default':\n",
    "    start_date = datetime.today() - relativedelta(months=12)\n",
    "    end_date = datetime.today()\n",
    "\n",
    "if script_setting == 'manual':\n",
    "    start_date = datetime(2024, 9, 1)  \n",
    "    end_date = datetime(2025, 2, 1)  \n",
    "year_month_list = generate_year_month_list(start_date, end_date)\n",
    "\n",
    "# Input Variables\n",
    "headers = {\"User-Agent\": \"gcs_chess_ingestion.ipynb (Python 3.11) (username: filiplivancic; contact: filiplivancic@gmail.com)\"}\n",
    "project_name = 'checkmate-453316'\n",
    "bucket_name = 'chess-api'\n",
    "\n",
    "# GCS Endpoints\n",
    "gcs_player_endpoint = f\"players/{player}/games/{period}\" \n",
    "gcs_leaderboard_endpoint = f\"leaderboards/{datetime.now().strftime('%Y-%m-%d_%H-%M-%S')}\""
   ]
  },
  {
   "cell_type": "code",
   "execution_count": 77,
   "metadata": {},
   "outputs": [],
   "source": [
    "# Use the function in case of need to ammend the GCS filename prefixes\n",
    "# Default boolean value should be False\n",
    "is_renaming_gcs_files = False\n",
    "if is_renaming_gcs_files == True:\n",
    "    print('Changing GCS file prefixes')\n",
    "    prefix = 'players'\n",
    "    excluded_prefixes = 'leaderboards/'\n",
    "    append_prefix_to_gcs_files(prefix, excluded_prefixes)\n"
   ]
  },
  {
   "cell_type": "code",
   "execution_count": 83,
   "metadata": {},
   "outputs": [
    {
     "name": "stdout",
     "output_type": "stream",
     "text": [
      "Requesting the latest leaderboards\n",
      "Success | Uploaded leaderboards/2025-03-11_16-01-01 to GCS bucket: chess-api\n"
     ]
    }
   ],
   "source": [
    "# Getting leaderboard of the current top players\n",
    "print('Requesting the latest leaderboards')\n",
    "leaderboards_url = f'https://api.chess.com/pub/leaderboards'\n",
    "leaderboards_response = exponential_backoff_request(leaderboards_url, headers)\n",
    "upload_json_to_gcs_bucket(bucket_name, gcs_leaderboard_endpoint, leaderboards_response)"
   ]
  },
  {
   "cell_type": "code",
   "execution_count": 49,
   "metadata": {},
   "outputs": [
    {
     "name": "stdout",
     "output_type": "stream",
     "text": [
      "Retrieving the names of top chess players\n"
     ]
    }
   ],
   "source": [
    "# Find all possible chess formats being tracked on leaderboard\n",
    "format_list = list(leaderboard_response.json().keys())\n",
    "\n",
    "# Get all the top player names from each chess format\n",
    "print('Retrieving the names of top chess players')\n",
    "top_player_list = []\n",
    "for form in format_list:\n",
    "    for i in range(len(leaderboard_response.json().get(form))):\n",
    "        user = leaderboard_response.json().get(form)[i].get('username')\n",
    "        top_player_list.append(user.lower())\n",
    "        \n",
    "# Deduplicate usernames\n",
    "top_player_list = list(set(top_player_list))"
   ]
  },
  {
   "cell_type": "code",
   "execution_count": 69,
   "metadata": {},
   "outputs": [
    {
     "name": "stdout",
     "output_type": "stream",
     "text": [
      "Total request combinations: 7020\n",
      "Number of remaing requests: 6691\n"
     ]
    }
   ],
   "source": [
    "# Listing the current objects in the chess api storage bucket\n",
    "gcs_file_list = list_files_in_gcs(bucket_name)\n",
    "\n",
    "# Cross product of usernames with the date period selected\n",
    "player_date_permutations = [gcs_player_endpoint for player, period in product(top_player_list, year_month_list)]\n",
    "\n",
    "# Check if those combos exist in GCS currently -- if not remove them from the list\n",
    "remaining_game_requests = player_date_permutations[:]\n",
    "for combo in remaining_game_requests:\n",
    "    if combo in gcs_file_list:\n",
    "        remaining_game_requests.remove(combo)\n",
    "        \n",
    "print(f\"Total request combinations: {len(player_date_permutations)}\")\n",
    "print(f\"Number of remaing requests: {len(remaining_game_requests)}\")"
   ]
  },
  {
   "cell_type": "code",
   "execution_count": null,
   "metadata": {},
   "outputs": [],
   "source": [
    "# Iterating through each \n",
    "print('Requesting archived game data')\n",
    "for player in top_player_list:\n",
    "    for period in year_month_list:\n",
    "        print(f'Requesting Game Data | player: {player} | period {period}')\n",
    "        games_url = f'https://api.chess.com/pub/player/{player}/games/{period}'\n",
    "        games_response = exponential_backoff_request(games_url, headers)\n",
    "        upload_json_to_gcs_bucket(bucket_name, gcs_player_endpoint, games_response)\n",
    "        sleep(1)"
   ]
  }
 ],
 "metadata": {
  "kernelspec": {
   "display_name": "Python 3",
   "language": "python",
   "name": "python3"
  },
  "language_info": {
   "codemirror_mode": {
    "name": "ipython",
    "version": 3
   },
   "file_extension": ".py",
   "mimetype": "text/x-python",
   "name": "python",
   "nbconvert_exporter": "python",
   "pygments_lexer": "ipython3",
   "version": "3.11.11"
  },
  "orig_nbformat": 4,
  "vscode": {
   "interpreter": {
    "hash": "e7370f93d1d0cde622a1f8e1c04877d8463912d04d973331ad4851f04de6915a"
   }
  }
 },
 "nbformat": 4,
 "nbformat_minor": 2
}
